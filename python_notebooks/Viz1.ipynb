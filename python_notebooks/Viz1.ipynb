{
  "nbformat": 4,
  "nbformat_minor": 0,
  "metadata": {
    "colab": {
      "provenance": []
    },
    "kernelspec": {
      "name": "python3",
      "display_name": "Python 3"
    },
    "language_info": {
      "name": "python"
    }
  },
  "cells": [
    {
      "cell_type": "code",
      "execution_count": null,
      "metadata": {
        "id": "Sg7wBCr-GFpN",
        "colab": {
          "base_uri": "https://localhost:8080/",
          "height": 366
        },
        "outputId": "a97df30f-5c41-4959-aff1-37fe0d194b35"
      },
      "outputs": [
        {
          "output_type": "execute_result",
          "data": {
            "text/html": [
              "\n",
              "<div id=\"altair-viz-c02dbe81e9444510b65eedceceb82f4d\"></div>\n",
              "<script type=\"text/javascript\">\n",
              "  var VEGA_DEBUG = (typeof VEGA_DEBUG == \"undefined\") ? {} : VEGA_DEBUG;\n",
              "  (function(spec, embedOpt){\n",
              "    let outputDiv = document.currentScript.previousElementSibling;\n",
              "    if (outputDiv.id !== \"altair-viz-c02dbe81e9444510b65eedceceb82f4d\") {\n",
              "      outputDiv = document.getElementById(\"altair-viz-c02dbe81e9444510b65eedceceb82f4d\");\n",
              "    }\n",
              "    const paths = {\n",
              "      \"vega\": \"https://cdn.jsdelivr.net/npm//vega@5?noext\",\n",
              "      \"vega-lib\": \"https://cdn.jsdelivr.net/npm//vega-lib?noext\",\n",
              "      \"vega-lite\": \"https://cdn.jsdelivr.net/npm//vega-lite@4.17.0?noext\",\n",
              "      \"vega-embed\": \"https://cdn.jsdelivr.net/npm//vega-embed@6?noext\",\n",
              "    };\n",
              "\n",
              "    function maybeLoadScript(lib, version) {\n",
              "      var key = `${lib.replace(\"-\", \"\")}_version`;\n",
              "      return (VEGA_DEBUG[key] == version) ?\n",
              "        Promise.resolve(paths[lib]) :\n",
              "        new Promise(function(resolve, reject) {\n",
              "          var s = document.createElement('script');\n",
              "          document.getElementsByTagName(\"head\")[0].appendChild(s);\n",
              "          s.async = true;\n",
              "          s.onload = () => {\n",
              "            VEGA_DEBUG[key] = version;\n",
              "            return resolve(paths[lib]);\n",
              "          };\n",
              "          s.onerror = () => reject(`Error loading script: ${paths[lib]}`);\n",
              "          s.src = paths[lib];\n",
              "        });\n",
              "    }\n",
              "\n",
              "    function showError(err) {\n",
              "      outputDiv.innerHTML = `<div class=\"error\" style=\"color:red;\">${err}</div>`;\n",
              "      throw err;\n",
              "    }\n",
              "\n",
              "    function displayChart(vegaEmbed) {\n",
              "      vegaEmbed(outputDiv, spec, embedOpt)\n",
              "        .catch(err => showError(`Javascript Error: ${err.message}<br>This usually means there's a typo in your chart specification. See the javascript console for the full traceback.`));\n",
              "    }\n",
              "\n",
              "    if(typeof define === \"function\" && define.amd) {\n",
              "      requirejs.config({paths});\n",
              "      require([\"vega-embed\"], displayChart, err => showError(`Error loading script: ${err.message}`));\n",
              "    } else {\n",
              "      maybeLoadScript(\"vega\", \"5\")\n",
              "        .then(() => maybeLoadScript(\"vega-lite\", \"4.17.0\"))\n",
              "        .then(() => maybeLoadScript(\"vega-embed\", \"6\"))\n",
              "        .catch(showError)\n",
              "        .then(() => displayChart(vegaEmbed));\n",
              "    }\n",
              "  })({\"config\": {\"view\": {\"continuousWidth\": 400, \"continuousHeight\": 300}}, \"data\": {\"url\": \"https://raw.githubusercontent.com/UIUC-iSchool-DataViz/is445_data/main/licenses_fall2022.csv\"}, \"mark\": \"bar\", \"description\": \"Bar chart showing the count of License Types\", \"encoding\": {\"color\": {\"field\": \"Business\", \"type\": \"nominal\"}, \"tooltip\": [{\"field\": \"Business\", \"type\": \"nominal\"}, {\"aggregate\": \"count\", \"field\": \"*\", \"type\": \"quantitative\"}], \"x\": {\"field\": \"Business\", \"type\": \"nominal\"}, \"y\": {\"aggregate\": \"count\", \"type\": \"quantitative\"}}, \"$schema\": \"https://vega.github.io/schema/vega-lite/v5.json\"}, {\"mode\": \"vega-lite\"});\n",
              "</script>"
            ],
            "text/plain": [
              "alt.Chart(...)"
            ]
          },
          "metadata": {},
          "execution_count": 3
        }
      ],
      "source": [
        "import pandas as pd\n",
        "import altair as alt\n",
        "\n",
        "\n",
        "chart2 = alt.Chart.from_dict({\n",
        "  \"$schema\": \"https://vega.github.io/schema/vega-lite/v5.json\",\n",
        "  \"description\": \"Bar chart showing the count of License Types\",\n",
        "  \"data\": {\n",
        "    \"url\": \"https://raw.githubusercontent.com/UIUC-iSchool-DataViz/is445_data/main/licenses_fall2022.csv\"\n",
        "  },\n",
        "  \"mark\": \"bar\",\n",
        "  \"encoding\": {\n",
        "    \"x\": {\"field\": \"Business\", \"type\": \"nominal\"},\n",
        "    \"y\": {\"aggregate\": \"count\", \"type\": \"quantitative\"},\n",
        "    \"color\": {\"field\": \"Business\", \"type\": \"nominal\"},\n",
        "    \"tooltip\": [\n",
        "      {\"field\": \"Business\", \"type\": \"nominal\"},\n",
        "      {\"aggregate\": \"count\", \"field\": \"*\", \"type\": \"quantitative\"}\n",
        "    ]\n",
        "  }\n",
        "})\n",
        "\n",
        "chart2\n",
        "\n",
        "Dir = './'\n",
        "chart2.properties(width='container').save(Dir+\"viz.json\")\n"
      ]
    },
    {
      "cell_type": "markdown",
      "source": [
        "### Bar Chart of Presence of Businesses:\n",
        "\n",
        "#### Description:\n",
        "This bar chart visualizes the count of businesses based on the presence or absence of a business name in the dataset.\n",
        "\n",
        "#### Design Choices:\n",
        "- Vizualization done using vegalite then used Python+Altair to read the dictionary and convert it into a JSON file.\n",
        "- **Encoding Types:**\n",
        "  - X-axis represents the presence or absence of a business name (Business Y/N), chosen type : nominal.\n",
        "  - Y-axis represents the count of businesses, chosen type : quantitative.\n",
        "  - Color distinguishes between the two categories.\n",
        "\n",
        "- **Color Scheme:**\n",
        "  - A binary color scheme (e.g., blue and orange) represents Yes/No categories.\n",
        "\n",
        "#### Data Transformations:\n",
        "- The count of businesses is calculated based on the presence or absence of a business name.\n",
        "\n",
        "#### Interactivity:\n",
        "- The chart is static without specific interactivity for simplicity.\n",
        "- Additional interactivity (e.g., selection) can be added based on specific needs.\n"
      ],
      "metadata": {
        "id": "-2yfJoQHZybw"
      }
    }
  ]
}