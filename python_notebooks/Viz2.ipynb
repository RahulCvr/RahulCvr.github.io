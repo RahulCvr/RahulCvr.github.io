{
  "nbformat": 4,
  "nbformat_minor": 0,
  "metadata": {
    "colab": {
      "provenance": []
    },
    "kernelspec": {
      "name": "python3",
      "display_name": "Python 3"
    },
    "language_info": {
      "name": "python"
    }
  },
  "cells": [
    {
      "cell_type": "code",
      "execution_count": null,
      "metadata": {
        "id": "VGIyK8EyMM11"
      },
      "outputs": [],
      "source": [
        "import altair as alt\n",
        "import pandas as pd\n",
        "import numpy as np\n",
        "\n",
        "csv_url = 'https://raw.githubusercontent.com/UIUC-iSchool-DataViz/is445_data/main/licenses_fall2022.csv'\n",
        "\n",
        "data = pd.read_csv(csv_url)\n",
        "\n",
        "# Calculate the counts for each license type\n",
        "license_counts = data['License Type'].value_counts().reset_index()\n",
        "license_counts.columns = ['License Type', 'Count']\n",
        "\n",
        "# Create a new category 'Others' for license types with counts less than 100\n",
        "license_counts['License Type'] = np.where(license_counts['Count'] < 70, 'Others', license_counts['License Type'])\n",
        "\n",
        "selection = alt.selection_multi(fields=['License Type'], bind='legend')\n",
        "\n",
        "pie_chart = alt.Chart(license_counts).mark_arc().encode(\n",
        "    theta='Count:Q',\n",
        "    color=alt.condition(selection, 'License Type:N',alt.value('lightgray')),\n",
        "    tooltip=['License Type:N', 'Count:Q']\n",
        ").add_selection(selection).properties(\n",
        "    title='Pie Chart of License Types'\n",
        ")\n",
        "\n",
        "pie_chart\n",
        "pie_chart.save(\"./viz.json\")"
      ]
    },
    {
      "cell_type": "markdown",
      "source": [
        "### Pie Chart of License Types:\n",
        "\n",
        "#### Description:\n",
        "This pie chart visualizes the distribution of license types in a dataset, with the ability to interactively select specific license types for a more focused analysis.\n",
        "\n",
        "#### Design Choices:\n",
        "- Vizualization done using Python+Altair and then exported to JSON.\n",
        "- **Encoding Types:**\n",
        "  - Theta (angle) encodes the count of license types.\n",
        "  - Color distinguishes different license types.\n",
        "  - Selected type is highlighted and others are greyed.\n",
        "  - Tooltip includes license type and count for additional information.\n",
        "\n",
        "- **Color Scheme:**\n",
        "  - A categorical color scheme is used to differentiate license types.\n",
        "\n",
        "#### Data Transformations:\n",
        "- The count of license types is calculated from the dataset.\n",
        "- A new category \"Others\" is created for license types with counts less than 100.\n",
        "\n",
        "#### Interactivity:\n",
        "- Users can select specific license types by clicking on the legend.\n",
        "- Selection highlights chosen license type, aiding in a more detailed analysis.\n",
        "- Tooltip complements the selection interaction by showing the license type and count.\n",
        "- To de-select, click on anything outside the legend"
      ],
      "metadata": {
        "id": "qk8pafHsbsq-"
      }
    }
  ]
}